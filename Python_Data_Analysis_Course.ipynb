{
  "nbformat": 4,
  "nbformat_minor": 0,
  "metadata": {
    "colab": {
      "provenance": [],
      "authorship_tag": "ABX9TyN/A+4OF1CBdeER9POGdq9i",
      "include_colab_link": true
    },
    "kernelspec": {
      "name": "python3",
      "display_name": "Python 3"
    },
    "language_info": {
      "name": "python"
    }
  },
  "cells": [
    {
      "cell_type": "markdown",
      "metadata": {
        "id": "view-in-github",
        "colab_type": "text"
      },
      "source": [
        "<a href=\"https://colab.research.google.com/github/jcpjcp99/MachineL/blob/main/Python_Data_Analysis_Course.ipynb\" target=\"_parent\"><img src=\"https://colab.research.google.com/assets/colab-badge.svg\" alt=\"Open In Colab\"/></a>"
      ]
    },
    {
      "cell_type": "markdown",
      "source": [
        "Numeric Python\n"
      ],
      "metadata": {
        "id": "qoAjB8cYxq-y"
      }
    },
    {
      "cell_type": "code",
      "execution_count": null,
      "metadata": {
        "id": "YOAArYwtqc4v"
      },
      "outputs": [],
      "source": [
        "# import numpy\n",
        "import numpy as np\n"
      ]
    },
    {
      "cell_type": "code",
      "source": [
        "# create numpy array\n",
        "np1 = np.array([0,1,2,3,4,,5,6,7,8,9,0])"
      ],
      "metadata": {
        "id": "4YCAQhhUv16Y"
      },
      "execution_count": null,
      "outputs": []
    },
    {
      "cell_type": "code",
      "source": [],
      "metadata": {
        "id": "q8s7ONu8xKWN"
      },
      "execution_count": null,
      "outputs": []
    }
  ]
}