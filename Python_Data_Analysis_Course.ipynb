{
  "nbformat": 4,
  "nbformat_minor": 0,
  "metadata": {
    "colab": {
      "provenance": [],
      "authorship_tag": "ABX9TyN80nHISvhpHJOazc5sK/80",
      "include_colab_link": true
    },
    "kernelspec": {
      "name": "python3",
      "display_name": "Python 3"
    },
    "language_info": {
      "name": "python"
    }
  },
  "cells": [
    {
      "cell_type": "markdown",
      "metadata": {
        "id": "view-in-github",
        "colab_type": "text"
      },
      "source": [
        "<a href=\"https://colab.research.google.com/github/jcpjcp99/MachineL/blob/main/Python_Data_Analysis_Course.ipynb\" target=\"_parent\"><img src=\"https://colab.research.google.com/assets/colab-badge.svg\" alt=\"Open In Colab\"/></a>"
      ]
    },
    {
      "cell_type": "markdown",
      "source": [
        "Numeric Python\n"
      ],
      "metadata": {
        "id": "qoAjB8cYxq-y"
      }
    },
    {
      "cell_type": "code",
      "execution_count": 36,
      "metadata": {
        "id": "YOAArYwtqc4v"
      },
      "outputs": [],
      "source": [
        "# import numpy\n",
        "import numpy as np\n",
        "my_list = [1,2,3,4,5,6,7,8,9,0]"
      ]
    },
    {
      "cell_type": "markdown",
      "source": [
        "# shape\n"
      ],
      "metadata": {
        "id": "BPCcrt9p3QS0"
      }
    },
    {
      "cell_type": "code",
      "source": [
        "# create numpy array\n",
        "# import numpy as np\n",
        "np1 = np.array(my_list)\n",
        "print(np1)\n",
        "print(np1.shape)\n",
        "print(my_list)"
      ],
      "metadata": {
        "colab": {
          "base_uri": "https://localhost:8080/"
        },
        "id": "4YCAQhhUv16Y",
        "outputId": "d0c9e1c8-933f-4c22-f423-8f8c89428ee8"
      },
      "execution_count": 41,
      "outputs": [
        {
          "output_type": "stream",
          "name": "stdout",
          "text": [
            "{0, 1, 2, 3, 4, 5, 6, 7, 8, 9}\n",
            "()\n",
            "{0, 1, 2, 3, 4, 5, 6, 7, 8, 9}\n"
          ]
        }
      ]
    },
    {
      "cell_type": "markdown",
      "source": [
        "Arrange"
      ],
      "metadata": {
        "id": "eKdX__YN3cnL"
      }
    },
    {
      "cell_type": "code",
      "source": [
        "np2 = np.arange(15)\n",
        "print(np2)"
      ],
      "metadata": {
        "colab": {
          "base_uri": "https://localhost:8080/"
        },
        "id": "0Y_30bAT4Kb7",
        "outputId": "919165e3-a32d-4a47-a366-f62604a39e5a"
      },
      "execution_count": 28,
      "outputs": [
        {
          "output_type": "stream",
          "name": "stdout",
          "text": [
            "[ 0  1  2  3  4  5  6  7  8  9 10 11 12 13 14]\n"
          ]
        }
      ]
    },
    {
      "cell_type": "code",
      "source": [],
      "metadata": {
        "id": "JaiGo91w4h1s"
      },
      "execution_count": null,
      "outputs": []
    },
    {
      "cell_type": "markdown",
      "source": [
        "Step"
      ],
      "metadata": {
        "id": "_av8xP1E44uF"
      }
    },
    {
      "cell_type": "code",
      "source": [
        "np3 = np.arange(0,20,2)\n",
        "print(np3)"
      ],
      "metadata": {
        "colab": {
          "base_uri": "https://localhost:8080/"
        },
        "id": "b1mjBp0V47aO",
        "outputId": "b4302d28-2f4d-4fc0-c64c-49748341ac2d"
      },
      "execution_count": 30,
      "outputs": [
        {
          "output_type": "stream",
          "name": "stdout",
          "text": [
            "[ 0  2  4  6  8 10 12 14 16 18]\n"
          ]
        }
      ]
    },
    {
      "cell_type": "code",
      "source": [],
      "metadata": {
        "id": "PEGro4-d5Ccc"
      },
      "execution_count": null,
      "outputs": []
    },
    {
      "cell_type": "markdown",
      "source": [
        "Put Zero in Array"
      ],
      "metadata": {
        "id": "Xujzqn515Zg2"
      }
    },
    {
      "cell_type": "code",
      "source": [
        "np4 = np.zeros(14)\n",
        "print(np4)"
      ],
      "metadata": {
        "colab": {
          "base_uri": "https://localhost:8080/"
        },
        "id": "-sLqwQRc5dgL",
        "outputId": "ea6fce28-37b5-48b1-c94e-1a2538fffd8d"
      },
      "execution_count": 31,
      "outputs": [
        {
          "output_type": "stream",
          "name": "stdout",
          "text": [
            "[0. 0. 0. 0. 0. 0. 0. 0. 0. 0. 0. 0. 0. 0.]\n"
          ]
        }
      ]
    },
    {
      "cell_type": "markdown",
      "source": [
        "Multi-dimensonal Arrays"
      ],
      "metadata": {
        "id": "bFcFQG3v6EMV"
      }
    },
    {
      "cell_type": "code",
      "source": [
        "np5 = np.zeros((5,8))\n",
        "print(np5)"
      ],
      "metadata": {
        "colab": {
          "base_uri": "https://localhost:8080/"
        },
        "id": "qSKWHJfY6LIu",
        "outputId": "7b914fdf-8255-4336-9006-99191eedb4ea"
      },
      "execution_count": 32,
      "outputs": [
        {
          "output_type": "stream",
          "name": "stdout",
          "text": [
            "[[0. 0. 0. 0. 0. 0. 0. 0.]\n",
            " [0. 0. 0. 0. 0. 0. 0. 0.]\n",
            " [0. 0. 0. 0. 0. 0. 0. 0.]\n",
            " [0. 0. 0. 0. 0. 0. 0. 0.]\n",
            " [0. 0. 0. 0. 0. 0. 0. 0.]]\n"
          ]
        }
      ]
    },
    {
      "cell_type": "code",
      "source": [
        "np6 = np.full((6,9), \"fred\")\n",
        "print(np6)"
      ],
      "metadata": {
        "colab": {
          "base_uri": "https://localhost:8080/"
        },
        "id": "yCilRSA36wzi",
        "outputId": "d2961a30-9fd7-43f0-ffbe-65df51e27131"
      },
      "execution_count": 33,
      "outputs": [
        {
          "output_type": "stream",
          "name": "stdout",
          "text": [
            "[['fred' 'fred' 'fred' 'fred' 'fred' 'fred' 'fred' 'fred' 'fred']\n",
            " ['fred' 'fred' 'fred' 'fred' 'fred' 'fred' 'fred' 'fred' 'fred']\n",
            " ['fred' 'fred' 'fred' 'fred' 'fred' 'fred' 'fred' 'fred' 'fred']\n",
            " ['fred' 'fred' 'fred' 'fred' 'fred' 'fred' 'fred' 'fred' 'fred']\n",
            " ['fred' 'fred' 'fred' 'fred' 'fred' 'fred' 'fred' 'fred' 'fred']\n",
            " ['fred' 'fred' 'fred' 'fred' 'fred' 'fred' 'fred' 'fred' 'fred']]\n"
          ]
        }
      ]
    },
    {
      "cell_type": "markdown",
      "source": [],
      "metadata": {
        "id": "9kkkqPsu7dtI"
      }
    },
    {
      "cell_type": "markdown",
      "source": [
        "MUlti Dimensional, Full"
      ],
      "metadata": {
        "id": "M8V2TqW17jxC"
      }
    },
    {
      "cell_type": "code",
      "source": [
        "np7 = np.full((5,8), \"dog)\")\n",
        "print(np7)"
      ],
      "metadata": {
        "colab": {
          "base_uri": "https://localhost:8080/"
        },
        "id": "XVKwMEY67oSG",
        "outputId": "250e6806-d6b4-4790-d470-35b04c865e66"
      },
      "execution_count": 34,
      "outputs": [
        {
          "output_type": "stream",
          "name": "stdout",
          "text": [
            "[['dog)' 'dog)' 'dog)' 'dog)' 'dog)' 'dog)' 'dog)' 'dog)']\n",
            " ['dog)' 'dog)' 'dog)' 'dog)' 'dog)' 'dog)' 'dog)' 'dog)']\n",
            " ['dog)' 'dog)' 'dog)' 'dog)' 'dog)' 'dog)' 'dog)' 'dog)']\n",
            " ['dog)' 'dog)' 'dog)' 'dog)' 'dog)' 'dog)' 'dog)' 'dog)']\n",
            " ['dog)' 'dog)' 'dog)' 'dog)' 'dog)' 'dog)' 'dog)' 'dog)']]\n"
          ]
        }
      ]
    },
    {
      "cell_type": "markdown",
      "source": [
        "Python List to mumpy array"
      ],
      "metadata": {
        "id": "opyGg5HL8sxg"
      }
    },
    {
      "cell_type": "code",
      "source": [
        "my_list2 =[1,2,3,4,5]\n",
        "# use my_list\n",
        "np8 = np.array(my_list2)\n",
        "print(np8)\n",
        "print(my_list2)"
      ],
      "metadata": {
        "colab": {
          "base_uri": "https://localhost:8080/"
        },
        "id": "cOOTGY4w8xHa",
        "outputId": "aa391d5c-a92b-4710-f68e-8055e2a36620"
      },
      "execution_count": 43,
      "outputs": [
        {
          "output_type": "stream",
          "name": "stdout",
          "text": [
            "[1 2 3 4 5]\n",
            "[1, 2, 3, 4, 5]\n"
          ]
        }
      ]
    }
  ]
}